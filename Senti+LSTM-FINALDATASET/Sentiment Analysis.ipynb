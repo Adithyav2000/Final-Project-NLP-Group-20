{
 "cells": [
  {
   "cell_type": "markdown",
   "id": "ce2b54fc-eb1e-4118-8a3f-31c142db5f6a",
   "metadata": {},
   "source": [
    "# Sentiment Analysis using LSTM"
   ]
  },
  {
   "cell_type": "code",
   "execution_count": 1,
   "id": "28949988-a9d7-4a70-bedb-ba730a2f6659",
   "metadata": {},
   "outputs": [],
   "source": [
    "import numpy as np \n",
    "import pandas as pd \n",
    "import os\n",
    "import re    \n",
    "import nltk  \n",
    "# nltk.download(\"stopwords\")\n",
    "from nltk.corpus import stopwords\n",
    "from nltk.stem.porter import *\n",
    "\n",
    "from sklearn.model_selection import train_test_split\n",
    "import tensorflow as tf\n",
    "import seaborn as sns\n",
    "\n",
    "import matplotlib.pyplot as plt\n",
    "import matplotlib.patches as mpatches\n",
    "\n",
    "from sklearn.feature_extraction.text import CountVectorizer\n",
    "from keras.preprocessing.text import Tokenizer\n",
    "from keras.preprocessing.sequence import pad_sequences\n",
    "import keras.backend as K\n",
    "\n",
    "import pickle\n",
    "\n",
    "from keras.models import Sequential\n",
    "from keras.layers import Embedding, Conv1D, MaxPooling1D, Bidirectional, LSTM, Dense, Dropout\n",
    "from keras.metrics import Precision, Recall\n",
    "from keras.optimizers import SGD\n",
    "from keras.optimizers import RMSprop\n",
    "from keras import datasets\n",
    "\n",
    "from keras.callbacks import LearningRateScheduler\n",
    "from keras.callbacks import History\n",
    "\n",
    "from keras import losses"
   ]
  },
  {
   "cell_type": "markdown",
   "id": "82a6a0c8-ca45-4ffe-abbb-42a1142e431c",
   "metadata": {},
   "source": [
    "## Load the dataset and display the first 5 rows"
   ]
  },
  {
   "cell_type": "code",
   "execution_count": 2,
   "id": "502228fc-0d86-4037-8822-0f73e54537c8",
   "metadata": {},
   "outputs": [
    {
     "data": {
      "text/html": [
       "<div>\n",
       "<style scoped>\n",
       "    .dataframe tbody tr th:only-of-type {\n",
       "        vertical-align: middle;\n",
       "    }\n",
       "\n",
       "    .dataframe tbody tr th {\n",
       "        vertical-align: top;\n",
       "    }\n",
       "\n",
       "    .dataframe thead th {\n",
       "        text-align: right;\n",
       "    }\n",
       "</style>\n",
       "<table border=\"1\" class=\"dataframe\">\n",
       "  <thead>\n",
       "    <tr style=\"text-align: right;\">\n",
       "      <th></th>\n",
       "      <th>clean_text</th>\n",
       "      <th>category</th>\n",
       "    </tr>\n",
       "  </thead>\n",
       "  <tbody>\n",
       "    <tr>\n",
       "      <th>0</th>\n",
       "      <td>when modi promised “minimum government maximum...</td>\n",
       "      <td>-1.0</td>\n",
       "    </tr>\n",
       "    <tr>\n",
       "      <th>1</th>\n",
       "      <td>talk all the nonsense and continue all the dra...</td>\n",
       "      <td>0.0</td>\n",
       "    </tr>\n",
       "    <tr>\n",
       "      <th>2</th>\n",
       "      <td>what did just say vote for modi  welcome bjp t...</td>\n",
       "      <td>1.0</td>\n",
       "    </tr>\n",
       "    <tr>\n",
       "      <th>3</th>\n",
       "      <td>asking his supporters prefix chowkidar their n...</td>\n",
       "      <td>1.0</td>\n",
       "    </tr>\n",
       "    <tr>\n",
       "      <th>4</th>\n",
       "      <td>answer who among these the most powerful world...</td>\n",
       "      <td>1.0</td>\n",
       "    </tr>\n",
       "  </tbody>\n",
       "</table>\n",
       "</div>"
      ],
      "text/plain": [
       "                                          clean_text  category\n",
       "0  when modi promised “minimum government maximum...      -1.0\n",
       "1  talk all the nonsense and continue all the dra...       0.0\n",
       "2  what did just say vote for modi  welcome bjp t...       1.0\n",
       "3  asking his supporters prefix chowkidar their n...       1.0\n",
       "4  answer who among these the most powerful world...       1.0"
      ]
     },
     "execution_count": 2,
     "metadata": {},
     "output_type": "execute_result"
    }
   ],
   "source": [
    "# Load the dataset\n",
    "twitter_data = pd.read_csv('Twitter_Data.csv')\n",
    "\n",
    "# Display the first five rows\n",
    "twitter_data.head()"
   ]
  },
  {
   "cell_type": "code",
   "execution_count": 3,
   "id": "903e48ba-877e-478a-967a-c936eac12920",
   "metadata": {},
   "outputs": [
    {
     "data": {
      "text/html": [
       "<div>\n",
       "<style scoped>\n",
       "    .dataframe tbody tr th:only-of-type {\n",
       "        vertical-align: middle;\n",
       "    }\n",
       "\n",
       "    .dataframe tbody tr th {\n",
       "        vertical-align: top;\n",
       "    }\n",
       "\n",
       "    .dataframe thead th {\n",
       "        text-align: right;\n",
       "    }\n",
       "</style>\n",
       "<table border=\"1\" class=\"dataframe\">\n",
       "  <thead>\n",
       "    <tr style=\"text-align: right;\">\n",
       "      <th></th>\n",
       "      <th>clean_text</th>\n",
       "      <th>category</th>\n",
       "    </tr>\n",
       "  </thead>\n",
       "  <tbody>\n",
       "    <tr>\n",
       "      <th>0</th>\n",
       "      <td>Wow. Yall needa step it up @Apple RT @heynyla:...</td>\n",
       "      <td>-1.0</td>\n",
       "    </tr>\n",
       "    <tr>\n",
       "      <th>1</th>\n",
       "      <td>What Happened To Apple Inc?   http://t.co/FJEX...</td>\n",
       "      <td>0.0</td>\n",
       "    </tr>\n",
       "    <tr>\n",
       "      <th>2</th>\n",
       "      <td>Thank u @apple I can now compile all of the pi...</td>\n",
       "      <td>1.0</td>\n",
       "    </tr>\n",
       "    <tr>\n",
       "      <th>3</th>\n",
       "      <td>The oddly uplifting story of the Apple co-foun...</td>\n",
       "      <td>0.0</td>\n",
       "    </tr>\n",
       "    <tr>\n",
       "      <th>4</th>\n",
       "      <td>@apple can i exchange my iphone for a differen...</td>\n",
       "      <td>0.0</td>\n",
       "    </tr>\n",
       "  </tbody>\n",
       "</table>\n",
       "</div>"
      ],
      "text/plain": [
       "                                          clean_text  category\n",
       "0  Wow. Yall needa step it up @Apple RT @heynyla:...      -1.0\n",
       "1  What Happened To Apple Inc?   http://t.co/FJEX...       0.0\n",
       "2  Thank u @apple I can now compile all of the pi...       1.0\n",
       "3  The oddly uplifting story of the Apple co-foun...       0.0\n",
       "4  @apple can i exchange my iphone for a differen...       0.0"
      ]
     },
     "execution_count": 3,
     "metadata": {},
     "output_type": "execute_result"
    }
   ],
   "source": [
    "# Load the dataset\n",
    "csv_file_path = 'apple-twitter-sentiment-texts.csv'\n",
    "sentiment_data = pd.read_csv(csv_file_path)\n",
    "\n",
    "sentiment_data.rename(columns={'text': 'clean_text', 'sentiment': 'category'}, inplace=True)\n",
    "\n",
    "sentiment_data['category'] = sentiment_data['category'].apply(lambda x: float(x))\n",
    "\n",
    "# Output the first five rows\n",
    "sentiment_data.head()\n"
   ]
  },
  {
   "cell_type": "code",
   "execution_count": 4,
   "id": "61cf8e20-50d6-468c-ae33-829396e5f29f",
   "metadata": {},
   "outputs": [
    {
     "name": "stderr",
     "output_type": "stream",
     "text": [
      "C:\\Users\\varsh\\AppData\\Local\\Temp\\ipykernel_17240\\102726480.py:9: FutureWarning: Downcasting behavior in `replace` is deprecated and will be removed in a future version. To retain the old behavior, explicitly call `result.infer_objects(copy=False)`. To opt-in to the future behavior, set `pd.set_option('future.no_silent_downcasting', True)`\n",
      "  tweet_data['category'] = tweet_data['category'].replace(sentiment_to_num)\n"
     ]
    },
    {
     "data": {
      "text/html": [
       "<div>\n",
       "<style scoped>\n",
       "    .dataframe tbody tr th:only-of-type {\n",
       "        vertical-align: middle;\n",
       "    }\n",
       "\n",
       "    .dataframe tbody tr th {\n",
       "        vertical-align: top;\n",
       "    }\n",
       "\n",
       "    .dataframe thead th {\n",
       "        text-align: right;\n",
       "    }\n",
       "</style>\n",
       "<table border=\"1\" class=\"dataframe\">\n",
       "  <thead>\n",
       "    <tr style=\"text-align: right;\">\n",
       "      <th></th>\n",
       "      <th>category</th>\n",
       "      <th>clean_text</th>\n",
       "    </tr>\n",
       "  </thead>\n",
       "  <tbody>\n",
       "    <tr>\n",
       "      <th>0</th>\n",
       "      <td>-1.0</td>\n",
       "      <td>agree the poor in india are treated badly thei...</td>\n",
       "    </tr>\n",
       "    <tr>\n",
       "      <th>1</th>\n",
       "      <td>1.0</td>\n",
       "      <td>if only i could have spent the with this cutie...</td>\n",
       "    </tr>\n",
       "    <tr>\n",
       "      <th>2</th>\n",
       "      <td>1.0</td>\n",
       "      <td>will nature conservation remain a priority in ...</td>\n",
       "    </tr>\n",
       "    <tr>\n",
       "      <th>3</th>\n",
       "      <td>-1.0</td>\n",
       "      <td>coronavirus disappearing in italy show this to...</td>\n",
       "    </tr>\n",
       "    <tr>\n",
       "      <th>4</th>\n",
       "      <td>-1.0</td>\n",
       "      <td>uk records lowest daily virus death toll since...</td>\n",
       "    </tr>\n",
       "  </tbody>\n",
       "</table>\n",
       "</div>"
      ],
      "text/plain": [
       "   category                                         clean_text\n",
       "0      -1.0  agree the poor in india are treated badly thei...\n",
       "1       1.0  if only i could have spent the with this cutie...\n",
       "2       1.0  will nature conservation remain a priority in ...\n",
       "3      -1.0  coronavirus disappearing in italy show this to...\n",
       "4      -1.0  uk records lowest daily virus death toll since..."
      ]
     },
     "execution_count": 4,
     "metadata": {},
     "output_type": "execute_result"
    }
   ],
   "source": [
    "# Load the dataset\n",
    "tweet_data = pd.read_csv('finalSentimentdata2.csv')\n",
    "\n",
    "# Rename columns for clarity and drop unnecessary columns\n",
    "tweet_data = tweet_data.rename(columns={'text': 'clean_text', 'sentiment': 'category'}).drop(columns=['Unnamed: 0'])\n",
    "\n",
    "# Convert sentiment values to numerical categories using a direct approach\n",
    "sentiment_to_num = {'sad': -1.0, 'anger': -1.0, 'fear': -1.0, 'joy': 1.0}\n",
    "tweet_data['category'] = tweet_data['category'].replace(sentiment_to_num)\n",
    "\n",
    "# Explicitly convert 'category' column to float to avoid downcasting deprecation warning\n",
    "tweet_data['category'] = tweet_data['category'].astype(float)\n",
    "\n",
    "# Display the first five rows of the cleaned dataset\n",
    "tweet_data.head()\n"
   ]
  },
  {
   "cell_type": "code",
   "execution_count": 5,
   "id": "d450b2d3-aa10-4b07-89b0-e6d077a95d19",
   "metadata": {},
   "outputs": [
    {
     "data": {
      "text/html": [
       "<div>\n",
       "<style scoped>\n",
       "    .dataframe tbody tr th:only-of-type {\n",
       "        vertical-align: middle;\n",
       "    }\n",
       "\n",
       "    .dataframe tbody tr th {\n",
       "        vertical-align: top;\n",
       "    }\n",
       "\n",
       "    .dataframe thead th {\n",
       "        text-align: right;\n",
       "    }\n",
       "</style>\n",
       "<table border=\"1\" class=\"dataframe\">\n",
       "  <thead>\n",
       "    <tr style=\"text-align: right;\">\n",
       "      <th></th>\n",
       "      <th>category</th>\n",
       "      <th>clean_text</th>\n",
       "    </tr>\n",
       "  </thead>\n",
       "  <tbody>\n",
       "    <tr>\n",
       "      <th>0</th>\n",
       "      <td>0.0</td>\n",
       "      <td>@VirginAmerica What @dhepburn said.</td>\n",
       "    </tr>\n",
       "    <tr>\n",
       "      <th>1</th>\n",
       "      <td>1.0</td>\n",
       "      <td>@VirginAmerica plus you've added commercials t...</td>\n",
       "    </tr>\n",
       "    <tr>\n",
       "      <th>2</th>\n",
       "      <td>0.0</td>\n",
       "      <td>@VirginAmerica I didn't today... Must mean I n...</td>\n",
       "    </tr>\n",
       "    <tr>\n",
       "      <th>3</th>\n",
       "      <td>-1.0</td>\n",
       "      <td>@VirginAmerica it's really aggressive to blast...</td>\n",
       "    </tr>\n",
       "    <tr>\n",
       "      <th>4</th>\n",
       "      <td>-1.0</td>\n",
       "      <td>@VirginAmerica and it's a really big bad thing...</td>\n",
       "    </tr>\n",
       "  </tbody>\n",
       "</table>\n",
       "</div>"
      ],
      "text/plain": [
       "   category                                         clean_text\n",
       "0       0.0                @VirginAmerica What @dhepburn said.\n",
       "1       1.0  @VirginAmerica plus you've added commercials t...\n",
       "2       0.0  @VirginAmerica I didn't today... Must mean I n...\n",
       "3      -1.0  @VirginAmerica it's really aggressive to blast...\n",
       "4      -1.0  @VirginAmerica and it's a really big bad thing..."
      ]
     },
     "execution_count": 5,
     "metadata": {},
     "output_type": "execute_result"
    }
   ],
   "source": [
    "# Load the dataset\n",
    "airline_tweets = pd.read_csv('Tweets.csv')\n",
    "\n",
    "# Rename columns and convert sentiments to numerical values\n",
    "airline_tweets = airline_tweets.rename(columns={'text': 'clean_text', 'airline_sentiment': 'category'})\n",
    "sentiment_mapping = {'negative': -1.0, 'neutral': 0.0, 'positive': 1.0}\n",
    "airline_tweets['category'] = airline_tweets['category'].map(sentiment_mapping)\n",
    "\n",
    "# Select only the relevant columns to simplify the DataFrame\n",
    "airline_tweets = airline_tweets[['category', 'clean_text']]\n",
    "\n",
    "# Display the first five rows of the processed dataset\n",
    "airline_tweets.head()\n"
   ]
  },
  {
   "cell_type": "markdown",
   "id": "523515a6-54a1-4145-96a2-b16b4fa2461a",
   "metadata": {},
   "source": [
    "### Size of the indvidual dfs and the final df"
   ]
  },
  {
   "cell_type": "code",
   "execution_count": 6,
   "id": "e8783fad-2684-4d4f-99cf-68afe847d6a7",
   "metadata": {},
   "outputs": [
    {
     "name": "stdout",
     "output_type": "stream",
     "text": [
      "Size of DataFrame 1: (162980, 2)\n",
      "Size of DataFrame 2: (1630, 2)\n",
      "Size of DataFrame 3: (3090, 2)\n",
      "Size of DataFrame 4: (14640, 2)\n",
      "Final DataFrame's size: (182340, 2)\n"
     ]
    }
   ],
   "source": [
    "print(\"Size of DataFrame 1:\", twitter_data.shape)\n",
    "print(\"Size of DataFrame 2:\", sentiment_data.shape)\n",
    "print(\"Size of DataFrame 3:\", tweet_data.shape)\n",
    "print(\"Size of DataFrame 4:\", airline_tweets.shape)\n",
    "df = pd.concat([twitter_data, sentiment_data, tweet_data, airline_tweets], ignore_index=True)\n",
    "print(\"Final DataFrame's size:\", df.shape)"
   ]
  },
  {
   "cell_type": "markdown",
   "id": "b9bdcaa0-bbc7-4f83-99da-12bf15c338af",
   "metadata": {},
   "source": [
    "### Drop missing rows"
   ]
  },
  {
   "cell_type": "code",
   "execution_count": 7,
   "id": "2437507d-8e89-4470-ab7d-669b4833797b",
   "metadata": {},
   "outputs": [
    {
     "data": {
      "text/plain": [
       "clean_text    4\n",
       "category      7\n",
       "dtype: int64"
      ]
     },
     "execution_count": 7,
     "metadata": {},
     "output_type": "execute_result"
    }
   ],
   "source": [
    "df.isnull().sum()"
   ]
  },
  {
   "cell_type": "code",
   "execution_count": 8,
   "id": "6f5d1b11-9940-437b-98cf-7ce7c2177b48",
   "metadata": {},
   "outputs": [],
   "source": [
    "df.dropna(axis=0, inplace=True)"
   ]
  },
  {
   "cell_type": "code",
   "execution_count": 9,
   "id": "b51d3928-2e11-4c97-8451-f53ee158ee71",
   "metadata": {},
   "outputs": [
    {
     "data": {
      "text/plain": [
       "clean_text    0\n",
       "category      0\n",
       "dtype: int64"
      ]
     },
     "execution_count": 9,
     "metadata": {},
     "output_type": "execute_result"
    }
   ],
   "source": [
    "df.isnull().sum()"
   ]
  },
  {
   "cell_type": "code",
   "execution_count": 10,
   "id": "fc63f7ce-8998-462d-9015-6b4c20e59831",
   "metadata": {},
   "outputs": [
    {
     "data": {
      "text/html": [
       "<div>\n",
       "<style scoped>\n",
       "    .dataframe tbody tr th:only-of-type {\n",
       "        vertical-align: middle;\n",
       "    }\n",
       "\n",
       "    .dataframe tbody tr th {\n",
       "        vertical-align: top;\n",
       "    }\n",
       "\n",
       "    .dataframe thead th {\n",
       "        text-align: right;\n",
       "    }\n",
       "</style>\n",
       "<table border=\"1\" class=\"dataframe\">\n",
       "  <thead>\n",
       "    <tr style=\"text-align: right;\">\n",
       "      <th></th>\n",
       "      <th>clean_text</th>\n",
       "      <th>category</th>\n",
       "    </tr>\n",
       "  </thead>\n",
       "  <tbody>\n",
       "    <tr>\n",
       "      <th>0</th>\n",
       "      <td>when modi promised “minimum government maximum...</td>\n",
       "      <td>Negative</td>\n",
       "    </tr>\n",
       "    <tr>\n",
       "      <th>1</th>\n",
       "      <td>talk all the nonsense and continue all the dra...</td>\n",
       "      <td>Neutral</td>\n",
       "    </tr>\n",
       "    <tr>\n",
       "      <th>2</th>\n",
       "      <td>what did just say vote for modi  welcome bjp t...</td>\n",
       "      <td>Positive</td>\n",
       "    </tr>\n",
       "    <tr>\n",
       "      <th>3</th>\n",
       "      <td>asking his supporters prefix chowkidar their n...</td>\n",
       "      <td>Positive</td>\n",
       "    </tr>\n",
       "    <tr>\n",
       "      <th>4</th>\n",
       "      <td>answer who among these the most powerful world...</td>\n",
       "      <td>Positive</td>\n",
       "    </tr>\n",
       "  </tbody>\n",
       "</table>\n",
       "</div>"
      ],
      "text/plain": [
       "                                          clean_text  category\n",
       "0  when modi promised “minimum government maximum...  Negative\n",
       "1  talk all the nonsense and continue all the dra...   Neutral\n",
       "2  what did just say vote for modi  welcome bjp t...  Positive\n",
       "3  asking his supporters prefix chowkidar their n...  Positive\n",
       "4  answer who among these the most powerful world...  Positive"
      ]
     },
     "execution_count": 10,
     "metadata": {},
     "output_type": "execute_result"
    }
   ],
   "source": [
    "# Map tweet categories\n",
    "df['category'] = df['category'].map({-1.0:'Negative', 0.0:'Neutral', 1.0:'Positive'})\n",
    "\n",
    "# Output first five rows\n",
    "df.head()"
   ]
  },
  {
   "cell_type": "markdown",
   "id": "24fe3c27-ab1b-4b7b-8dd2-41826ef7c22c",
   "metadata": {
    "jp-MarkdownHeadingCollapsed": true
   },
   "source": [
    "## Some Graphs"
   ]
  },
  {
   "cell_type": "code",
   "execution_count": 11,
   "id": "54330ed5-27dd-4b49-80a2-40be55a1480c",
   "metadata": {},
   "outputs": [
    {
     "data": {
      "image/png": "[encoded data removed]",
      "text/plain": [
       "<Figure size 640x480 with 1 Axes>"
      ]
     },
     "metadata": {},
     "output_type": "display_data"
    }
   ],
   "source": [
    "category_counts = df['category'].value_counts()\n",
    "category_counts.plot(kind='bar')\n",
    "plt.title('Distribution of Sentiment Categories')\n",
    "plt.xlabel('Category')\n",
    "plt.ylabel('Count')\n",
    "\n",
    "plt.xticks(ticks=range(len(category_counts)), labels=category_counts.index, rotation=0)\n",
    "\n",
    "plt.show()\n"
   ]
  },
  {
   "cell_type": "code",
   "execution_count": 12,
   "id": "b82063e3-3731-4f0c-8855-a02c873bc7df",
   "metadata": {},
   "outputs": [
    {
     "data": {
      "image/png": "[encoded data removed]",
      "text/plain": [
       "<Figure size 640x480 with 1 Axes>"
      ]
     },
     "metadata": {},
     "output_type": "display_data"
    }
   ],
   "source": [
    "df['text_length'] = df['clean_text'].apply(len)\n",
    "average_length_by_category = df.groupby('category')['text_length'].mean()\n",
    "\n",
    "average_length_by_category.plot(kind='bar')\n",
    "plt.title('Average Text Length by Sentiment Category')\n",
    "plt.xlabel('Sentiment Category')\n",
    "plt.ylabel('Average Text Length')\n",
    "plt.xticks(rotation=0)\n",
    "plt.show()\n"
   ]
  },
  {
   "cell_type": "code",
   "execution_count": 13,
   "id": "1f95b2c2-8d62-44f2-aa4f-f1fe9aeb733d",
   "metadata": {},
   "outputs": [
    {
     "data": {
      "image/png": "[encoded data removed]",
      "text/plain": [
       "<Figure size 640x480 with 4 Axes>"
      ]
     },
     "metadata": {},
     "output_type": "display_data"
    }
   ],
   "source": [
    "df['word_count'] = df['clean_text'].apply(lambda x: len(str(x).split()))\n",
    "\n",
    "df.hist(column='word_count', by='category', bins=50, sharex=True, sharey=True)\n",
    "plt.suptitle('Word Count Distribution by Sentiment Category')\n",
    "plt.xlabel('Word Count')\n",
    "plt.ylabel('Frequency')\n",
    "plt.show()\n"
   ]
  },
  {
   "cell_type": "markdown",
   "id": "38a500ef-ed27-49ec-8164-ed4a1efa083b",
   "metadata": {},
   "source": [
    "## Pre-Processing"
   ]
  },
  {
   "cell_type": "code",
   "execution_count": 14,
   "id": "be8454c5-d99d-4f5a-bb6a-00ed8337ad26",
   "metadata": {},
   "outputs": [],
   "source": [
    "# Regular expression to match non-alphanumeric characters\n",
    "non_letters_regex = re.compile(r\"[^a-zA-Z0-9]\")\n",
    "\n",
    "# Load English stopwords once and convert to a set for faster testing\n",
    "english_stopwords = set(stopwords.words(\"english\"))\n",
    "\n",
    "# Create a PorterStemmer object \n",
    "stemmer = PorterStemmer()\n",
    "\n",
    "def tweet_to_words(tweet):\n",
    "    ''' This function converts tweets to words, PREPROCESSING! '''\n",
    "    # convert to lowercase\n",
    "    text = tweet.lower()\n",
    "    # remove non-letters\n",
    "    text = non_letters_regex.sub(\" \", text)\n",
    "    # tokenize\n",
    "    words = text.split()\n",
    "    # remove stopwords\n",
    "    words = [w for w in words if w not in english_stopwords]\n",
    "    # apply stemming\n",
    "    words = [stemmer.stem(w) for w in words]\n",
    "    # return list\n",
    "    return words\n",
    "\n",
    "# print(\"After processing:\", tweet_to_words(df['clean_text'][0]))"
   ]
  },
  {
   "cell_type": "code",
   "execution_count": 15,
   "id": "c628eb75-3f9e-4d4a-8751-0f13320f29bd",
   "metadata": {},
   "outputs": [],
   "source": [
    "X = list(map(tweet_to_words, df['clean_text']))"
   ]
  },
  {
   "cell_type": "markdown",
   "id": "8f37a8d3-c9df-4d64-b986-c94ffefddaff",
   "metadata": {},
   "source": [
    "### Encode target labels"
   ]
  },
  {
   "cell_type": "code",
   "execution_count": 16,
   "id": "bea2f830-db84-45f6-b93f-b96c80e79461",
   "metadata": {},
   "outputs": [],
   "source": [
    "from sklearn.preprocessing import LabelEncoder\n",
    "\n",
    "le = LabelEncoder()\n",
    "Y = le.fit_transform(df['category'])"
   ]
  },
  {
   "cell_type": "code",
   "execution_count": 17,
   "id": "1b81c80d-9c6f-4317-8f5b-a12d455b93db",
   "metadata": {},
   "outputs": [],
   "source": [
    "# print(X[:5])\n",
    "# print(Y[:5])"
   ]
  },
  {
   "cell_type": "markdown",
   "id": "9a9f5262-c75f-4833-9448-6a07a7bcc8cd",
   "metadata": {},
   "source": [
    "### One hot encoding"
   ]
  },
  {
   "cell_type": "code",
   "execution_count": 18,
   "id": "866127d9-ffc9-4fca-a9a9-64607fa04088",
   "metadata": {},
   "outputs": [],
   "source": [
    "# Convert the 'category' column into indicator variables\n",
    "y = pd.get_dummies(df['category'])"
   ]
  },
  {
   "cell_type": "markdown",
   "id": "98fcc7b4-5e57-425c-b3c0-9c833ca6cb37",
   "metadata": {},
   "source": [
    "### Test and Train split"
   ]
  },
  {
   "cell_type": "code",
   "execution_count": 25,
   "id": "ceb08761-921f-4dea-83ab-08946c5efa49",
   "metadata": {},
   "outputs": [],
   "source": [
    "# Split the data into training and testing sets (80% training, 20% testing)\n",
    "X_train, X_test, y_train, y_test = train_test_split(X, y, test_size=0.2, random_state=1)\n",
    "\n",
    "# Split the training data into training and validation sets (further split 80% training, 20% validation)\n",
    "# This effectively splits the original data into 60% training, 20% validation, and 20% testing\n",
    "X_train, X_val, y_train, y_val = train_test_split(X_train, y_train, test_size=0.25, random_state=1)"
   ]
  },
  {
   "cell_type": "markdown",
   "id": "bcdd8b99-0d73-4816-b1da-d4da34ed64ce",
   "metadata": {},
   "source": [
    "### Text data to Numerical format\n",
    "\n",
    "**__Vocabulary size__** : Set as 5000 to capture the breadth of the tweets without overfitting or oversimplifying. 5000 most frequent words will be retained\n",
    "\n",
    "**__ngram_range__** : Consider both unigram and bigram to help capture not just the importance of individual words but also the context provided by pairs of words.\n",
    "\n",
    "**__preprocessor and tokenizer__** : Set to lambda since the text is already pre-processed and tokenized\n",
    "\n",
    "**__analyzer__** : Set to 'word' indicating that the analysis should be done at the word level"
   ]
  },
  {
   "cell_type": "code",
   "execution_count": 20,
   "id": "a26ba680-e1ec-4c67-8935-b6a64ab7ed61",
   "metadata": {},
   "outputs": [
    {
     "name": "stderr",
     "output_type": "stream",
     "text": [
      "C:\\Users\\varsh\\anaconda3\\Lib\\site-packages\\sklearn\\feature_extraction\\text.py:525: UserWarning: The parameter 'token_pattern' will not be used since 'tokenizer' is not None'\n",
      "  warnings.warn(\n"
     ]
    }
   ],
   "source": [
    "vocabulary_size = 5000\n",
    "\n",
    "count_vector = CountVectorizer(max_features=vocabulary_size, # Limited to max 5k words\n",
    "                               ngram_range=(1,2),  # Use unigrams and bigrams.\n",
    "                               preprocessor=lambda x: x,  # Dummy function for preprocessor\n",
    "                               tokenizer=lambda x: x,     # Dummy function for tokenizer\n",
    "                               analyzer='word')  # Ensure the analyzer operates at the word level\n",
    "\n",
    "# Fit the training data and transform it into a sparse matrix format\n",
    "X_train_count = count_vector.fit_transform(X_train)\n",
    "\n",
    "# Transform the testing data \n",
    "X_test_count = count_vector.transform(X_test)\n",
    "\n",
    "# Note: The outputs (X_train_count and X_test_count) are kept in sparse format to manage memory efficiently\n",
    "\n",
    "# If needed to convert to dense format (commented out since: with large datasets it may consume a lot of memory)\n",
    "# X_train_dense = X_train_count.toarray()\n",
    "# X_test_dense = X_test_count.toarray()\n"
   ]
  },
  {
   "cell_type": "markdown",
   "id": "5d159fe5-7a4d-4295-b12d-500eb513b999",
   "metadata": {},
   "source": [
    "### Tokenizer"
   ]
  },
  {
   "cell_type": "code",
   "execution_count": 21,
   "id": "2dc5786d-c379-45bc-87c6-bb75584ebdd6",
   "metadata": {},
   "outputs": [],
   "source": [
    "max_words = 5000\n",
    "max_len=50\n",
    "\n",
    "def tokenize_pad_sequences(text):\n",
    "    '''\n",
    "    Takes raw text data as input, tokenizes the text into sequences of integers, \n",
    "    and then pads these sequences to ensure they all have the same length.\n",
    "    '''\n",
    "    tokenizer = Tokenizer(num_words=max_words, lower=True, split=' ')\n",
    "    tokenizer.fit_on_texts(text)\n",
    "    # Transforms text to a sequence of integers\n",
    "    X = tokenizer.texts_to_sequences(text)\n",
    "    # Pad sequences \n",
    "    X = pad_sequences(X, padding='post', maxlen=max_len)\n",
    "    # return sequences\n",
    "    return X, tokenizer\n",
    "\n",
    "X, tokenizer = tokenize_pad_sequences(df['clean_text'])"
   ]
  },
  {
   "cell_type": "markdown",
   "id": "06a5048a-753f-4fb4-8f29-155b396eb871",
   "metadata": {},
   "source": [
    "#### Save and load the tokenizer (.pickle)"
   ]
  },
  {
   "cell_type": "code",
   "execution_count": 22,
   "id": "e92f44db-f2d4-4a2e-9159-15d9ec6d399d",
   "metadata": {},
   "outputs": [],
   "source": [
    "with open('tokenizer.pickle', 'wb') as handle:\n",
    "    pickle.dump(tokenizer, handle, protocol=pickle.HIGHEST_PROTOCOL)\n",
    "\n",
    "with open('tokenizer.pickle', 'rb') as handle:\n",
    "    tokenizer = pickle.load(handle)"
   ]
  },
  {
   "cell_type": "code",
   "execution_count": 26,
   "id": "1f69a59a-6f93-47c2-b85e-788b9ef1702a",
   "metadata": {},
   "outputs": [
    {
     "name": "stdout",
     "output_type": "stream",
     "text": [
      "Train Set: (109397, 50) (109397, 3)\n",
      "Validation Set: (36466, 50) (36466, 3)\n",
      "Test Set: (36466, 50) (36466, 3)\n"
     ]
    }
   ],
   "source": [
    "# y = pd.get_dummies(df['category'])\n",
    "# X_train, X_test, y_train, y_test = train_test_split(X, y, test_size=0.2, random_state=1)\n",
    "# X_train, X_val, y_train, y_val = train_test_split(X_train, y_train, test_size=0.25, random_state=1)\n",
    "print('Train Set:', X_train.shape, y_train.shape)\n",
    "print('Validation Set:', X_val.shape, y_val.shape)\n",
    "print('Test Set:', X_test.shape, y_test.shape)"
   ]
  },
  {
   "cell_type": "markdown",
   "id": "22cadae4-4b2a-4bf1-8388-0c0b83a511ff",
   "metadata": {},
   "source": [
    "## F1 Score"
   ]
  },
  {
   "cell_type": "code",
   "execution_count": 27,
   "id": "27cfc5c3-f8bc-4f73-a0d3-ea7bc1d787b6",
   "metadata": {},
   "outputs": [],
   "source": [
    "def f1_score(precision, recall): \n",
    "    f1_val = 2*(precision*recall)/(precision+recall+K.epsilon())\n",
    "    return f1_val"
   ]
  },
  {
   "cell_type": "markdown",
   "id": "e170ae22-34a0-4416-8f1b-5fb4dc4d6ed9",
   "metadata": {},
   "source": [
    "# LSTM"
   ]
  },
  {
   "cell_type": "code",
   "execution_count": 28,
   "id": "25a85d19-0704-40e7-833f-b82ce9bdb20c",
   "metadata": {},
   "outputs": [],
   "source": [
    "from tensorflow.keras.optimizers.schedules import ExponentialDecay\n",
    "from tensorflow.keras.optimizers import SGD\n",
    "\n",
    "vocab_size = 5000\n",
    "embedding_size = 32\n",
    "epochs=20\n",
    "learning_rate = 0.1\n",
    "decay_rate = learning_rate / epochs\n",
    "momentum = 0.8\n",
    "\n",
    "learning_rate = 0.01\n",
    "epochs = 20\n",
    "\n",
    "lr_schedule = ExponentialDecay(\n",
    "    initial_learning_rate=learning_rate,\n",
    "    decay_steps=1000,\n",
    "    decay_rate=0.96,\n",
    "    staircase=True)\n",
    "\n",
    "sgd = SGD(learning_rate=lr_schedule, momentum=momentum, nesterov=False)\n",
    "# Build model\n",
    "model= Sequential()\n",
    "model.add(Embedding(vocab_size, embedding_size, input_length=max_len))\n",
    "model.add(Conv1D(filters=32, kernel_size=3, padding='same', activation='relu'))\n",
    "model.add(MaxPooling1D(pool_size=2))\n",
    "model.add(Bidirectional(LSTM(32)))\n",
    "model.add(Dropout(0.4))\n",
    "model.add(Dense(3, activation='softmax'))"
   ]
  },
  {
   "cell_type": "code",
   "execution_count": 29,
   "id": "5ac494e4-e416-4bf3-b03b-f451dc496a64",
   "metadata": {},
   "outputs": [
    {
     "name": "stdout",
     "output_type": "stream",
     "text": [
      "Model: \"sequential\"\n",
      "_________________________________________________________________\n",
      " Layer (type)                Output Shape              Param #   \n",
      "=================================================================\n",
      " embedding (Embedding)       (None, 50, 32)            160000    \n",
      "                                                                 \n",
      " conv1d (Conv1D)             (None, 50, 32)            3104      \n",
      "                                                                 \n",
      " max_pooling1d (MaxPooling1  (None, 25, 32)            0         \n",
      " D)                                                              \n",
      "                                                                 \n",
      " bidirectional (Bidirection  (None, 64)                16640     \n",
      " al)                                                             \n",
      "                                                                 \n",
      " dropout (Dropout)           (None, 64)                0         \n",
      "                                                                 \n",
      " dense (Dense)               (None, 3)                 195       \n",
      "                                                                 \n",
      "=================================================================\n",
      "Total params: 179939 (702.89 KB)\n",
      "Trainable params: 179939 (702.89 KB)\n",
      "Non-trainable params: 0 (0.00 Byte)\n",
      "_________________________________________________________________\n",
      "None\n",
      "Epoch 1/20\n",
      "1710/1710 [==============================] - 54s 25ms/step - loss: 1.0255 - accuracy: 0.4771 - precision: 0.5603 - recall: 0.1715 - val_loss: 1.0009 - val_accuracy: 0.4986 - val_precision: 0.5650 - val_recall: 0.2735\n",
      "Epoch 2/20\n",
      "1710/1710 [==============================] - 41s 24ms/step - loss: 0.9933 - accuracy: 0.5015 - precision: 0.5736 - recall: 0.2459 - val_loss: 0.9654 - val_accuracy: 0.5183 - val_precision: 0.6151 - val_recall: 0.2651\n",
      "Epoch 3/20\n",
      "1710/1710 [==============================] - 44s 26ms/step - loss: 0.8652 - accuracy: 0.5878 - precision: 0.6572 - recall: 0.4264 - val_loss: 0.7274 - val_accuracy: 0.6662 - val_precision: 0.7126 - val_recall: 0.5985\n",
      "Epoch 4/20\n",
      "1710/1710 [==============================] - 43s 25ms/step - loss: 0.6300 - accuracy: 0.7343 - precision: 0.7690 - recall: 0.6863 - val_loss: 0.5340 - val_accuracy: 0.7951 - val_precision: 0.8099 - val_recall: 0.7723\n",
      "Epoch 5/20\n",
      "1710/1710 [==============================] - 43s 25ms/step - loss: 0.4456 - accuracy: 0.8529 - precision: 0.8658 - recall: 0.8331 - val_loss: 0.3805 - val_accuracy: 0.8844 - val_precision: 0.8921 - val_recall: 0.8740\n",
      "Epoch 6/20\n",
      "1710/1710 [==============================] - 42s 25ms/step - loss: 0.3504 - accuracy: 0.8952 - precision: 0.9015 - recall: 0.8861 - val_loss: 0.3085 - val_accuracy: 0.9070 - val_precision: 0.9113 - val_recall: 0.9019\n",
      "Epoch 7/20\n",
      "1710/1710 [==============================] - 41s 24ms/step - loss: 0.3126 - accuracy: 0.9089 - precision: 0.9145 - recall: 0.9026 - val_loss: 0.2868 - val_accuracy: 0.9145 - val_precision: 0.9187 - val_recall: 0.9100\n",
      "Epoch 8/20\n",
      "1710/1710 [==============================] - 43s 25ms/step - loss: 0.2931 - accuracy: 0.9161 - precision: 0.9211 - recall: 0.9095 - val_loss: 0.2792 - val_accuracy: 0.9188 - val_precision: 0.9221 - val_recall: 0.9152\n",
      "Epoch 9/20\n",
      "1710/1710 [==============================] - 43s 25ms/step - loss: 0.2789 - accuracy: 0.9207 - precision: 0.9260 - recall: 0.9150 - val_loss: 0.2766 - val_accuracy: 0.9204 - val_precision: 0.9239 - val_recall: 0.9160\n",
      "Epoch 10/20\n",
      "1710/1710 [==============================] - 42s 25ms/step - loss: 0.2701 - accuracy: 0.9240 - precision: 0.9286 - recall: 0.9185 - val_loss: 0.2758 - val_accuracy: 0.9209 - val_precision: 0.9254 - val_recall: 0.9164\n",
      "Epoch 11/20\n",
      "1710/1710 [==============================] - 44s 26ms/step - loss: 0.2620 - accuracy: 0.9262 - precision: 0.9309 - recall: 0.9210 - val_loss: 0.2737 - val_accuracy: 0.9209 - val_precision: 0.9247 - val_recall: 0.9164\n",
      "Epoch 12/20\n",
      "1710/1710 [==============================] - 44s 26ms/step - loss: 0.2560 - accuracy: 0.9286 - precision: 0.9333 - recall: 0.9236 - val_loss: 0.2724 - val_accuracy: 0.9220 - val_precision: 0.9257 - val_recall: 0.9174\n",
      "Epoch 13/20\n",
      "1710/1710 [==============================] - 44s 25ms/step - loss: 0.2497 - accuracy: 0.9304 - precision: 0.9347 - recall: 0.9256 - val_loss: 0.2731 - val_accuracy: 0.9210 - val_precision: 0.9255 - val_recall: 0.9156\n",
      "Epoch 14/20\n",
      "1710/1710 [==============================] - 44s 26ms/step - loss: 0.2455 - accuracy: 0.9316 - precision: 0.9362 - recall: 0.9264 - val_loss: 0.2777 - val_accuracy: 0.9194 - val_precision: 0.9243 - val_recall: 0.9156\n",
      "Epoch 15/20\n",
      "1710/1710 [==============================] - 44s 26ms/step - loss: 0.2403 - accuracy: 0.9335 - precision: 0.9381 - recall: 0.9287 - val_loss: 0.2712 - val_accuracy: 0.9223 - val_precision: 0.9274 - val_recall: 0.9162\n",
      "Epoch 16/20\n",
      "1710/1710 [==============================] - 43s 25ms/step - loss: 0.2359 - accuracy: 0.9348 - precision: 0.9394 - recall: 0.9300 - val_loss: 0.2655 - val_accuracy: 0.9245 - val_precision: 0.9286 - val_recall: 0.9207\n",
      "Epoch 17/20\n",
      "1710/1710 [==============================] - 44s 26ms/step - loss: 0.2321 - accuracy: 0.9360 - precision: 0.9407 - recall: 0.9313 - val_loss: 0.2626 - val_accuracy: 0.9253 - val_precision: 0.9293 - val_recall: 0.9211\n",
      "Epoch 18/20\n",
      "1710/1710 [==============================] - 44s 26ms/step - loss: 0.2295 - accuracy: 0.9366 - precision: 0.9412 - recall: 0.9317 - val_loss: 0.2656 - val_accuracy: 0.9242 - val_precision: 0.9282 - val_recall: 0.9206\n",
      "Epoch 19/20\n",
      "1710/1710 [==============================] - 44s 26ms/step - loss: 0.2253 - accuracy: 0.9385 - precision: 0.9433 - recall: 0.9338 - val_loss: 0.2693 - val_accuracy: 0.9228 - val_precision: 0.9271 - val_recall: 0.9181\n",
      "Epoch 20/20\n",
      "1710/1710 [==============================] - 44s 26ms/step - loss: 0.2218 - accuracy: 0.9393 - precision: 0.9437 - recall: 0.9349 - val_loss: 0.2653 - val_accuracy: 0.9249 - val_precision: 0.9288 - val_recall: 0.9212\n"
     ]
    }
   ],
   "source": [
    "print(model.summary())\n",
    "\n",
    "# Compile model\n",
    "model.compile(loss='categorical_crossentropy', optimizer=sgd, \n",
    "               metrics=['accuracy', Precision(), Recall()])\n",
    "\n",
    "# Train model\n",
    "batch_size = 64\n",
    "history = model.fit(X_train, y_train,\n",
    "                      validation_data=(X_val, y_val),\n",
    "                      batch_size=batch_size, epochs=epochs, verbose=1)"
   ]
  },
  {
   "cell_type": "markdown",
   "id": "4cfe1d1d-7975-424e-b4bb-9234da542a0b",
   "metadata": {},
   "source": [
    "# Evaluation of the Model"
   ]
  },
  {
   "cell_type": "code",
   "execution_count": 30,
   "id": "cf3b2c0d-2edc-46dc-8a84-a561177734c9",
   "metadata": {},
   "outputs": [
    {
     "name": "stdout",
     "output_type": "stream",
     "text": [
      "\n",
      "Accuracy  : 0.9197\n",
      "Precision : 0.9242\n",
      "Recall    : 0.9159\n",
      "F1 Score  : 0.9200\n"
     ]
    }
   ],
   "source": [
    "# Evaluate model on the test set\n",
    "loss, accuracy, precision, recall = model.evaluate(X_test, y_test, verbose=0)\n",
    "# Print metrics\n",
    "print('')\n",
    "print('Accuracy  : {:.4f}'.format(accuracy))\n",
    "print('Precision : {:.4f}'.format(precision))\n",
    "print('Recall    : {:.4f}'.format(recall))\n",
    "print('F1 Score  : {:.4f}'.format(f1_score(precision, recall)))"
   ]
  },
  {
   "cell_type": "code",
   "execution_count": 31,
   "id": "8fcd6cb4-54db-473b-9617-571f19977942",
   "metadata": {},
   "outputs": [
    {
     "name": "stdout",
     "output_type": "stream",
     "text": [
      "Best model saved\n"
     ]
    },
    {
     "name": "stderr",
     "output_type": "stream",
     "text": [
      "C:\\Users\\varsh\\anaconda3\\Lib\\site-packages\\keras\\src\\engine\\training.py:3079: UserWarning: You are saving your model as an HDF5 file via `model.save()`. This file format is considered legacy. We recommend using instead the native Keras format, e.g. `model.save('my_model.keras')`.\n",
      "  saving_api.save_model(\n"
     ]
    }
   ],
   "source": [
    "# Save the model architecture & the weights\n",
    "model.save('best_model.h5')\n",
    "print('Best model saved')"
   ]
  },
  {
   "cell_type": "markdown",
   "id": "a6d0d875-d986-4a1e-b5b2-c0aad6f0c00a",
   "metadata": {},
   "source": [
    "# Load the model and predict"
   ]
  },
  {
   "cell_type": "code",
   "execution_count": 32,
   "id": "a1a878ce-e197-4b72-9ac6-af86541e06ee",
   "metadata": {},
   "outputs": [],
   "source": [
    "from keras.models import load_model\n",
    "\n",
    "# Load model\n",
    "model = load_model('best_model.h5')\n",
    "\n",
    "def predict_class(text):\n",
    "    '''Function to predict sentiment class of the passed text'''\n",
    "    \n",
    "    sentiment_classes = ['Negative', 'Neutral', 'Positive']\n",
    "    max_len=50\n",
    "    \n",
    "    # Transforms text to a sequence of integers using a tokenizer object\n",
    "    xt = tokenizer.texts_to_sequences(text)\n",
    "    # Pad sequences to the same length\n",
    "    xt = pad_sequences(xt, padding='post', maxlen=max_len)\n",
    "    # Do the prediction using the loaded model\n",
    "    yt = model.predict(xt).argmax(axis=1)\n",
    "    # Print the predicted sentiment\n",
    "    print('The predicted sentiment is', sentiment_classes[yt[0]])\n",
    "\n"
   ]
  },
  {
   "cell_type": "code",
   "execution_count": 33,
   "id": "eba12866-4481-4fef-82bd-1451c4bcb18a",
   "metadata": {},
   "outputs": [
    {
     "name": "stdout",
     "output_type": "stream",
     "text": [
      "1/1 [==============================] - 2s 2s/step\n",
      "The predicted sentiment is Negative\n"
     ]
    }
   ],
   "source": [
    "predict_class(['I fell down from the stairs'])"
   ]
  },
  {
   "cell_type": "code",
   "execution_count": 34,
   "id": "043fc982-cd08-4c48-a028-0534d656d413",
   "metadata": {},
   "outputs": [
    {
     "name": "stdout",
     "output_type": "stream",
     "text": [
      "1/1 [==============================] - 0s 34ms/step\n",
      "The predicted sentiment is Neutral\n"
     ]
    }
   ],
   "source": [
    "predict_class(['I walked up the stairs'])"
   ]
  },
  {
   "cell_type": "code",
   "execution_count": 35,
   "id": "73acd810-fa58-429d-9f95-33fbc95acec2",
   "metadata": {},
   "outputs": [
    {
     "name": "stdout",
     "output_type": "stream",
     "text": [
      "1/1 [==============================] - 0s 39ms/step\n",
      "The predicted sentiment is Positive\n"
     ]
    }
   ],
   "source": [
    "predict_class(['I loved the day'])"
   ]
  }
 ],
 "metadata": {
  "kernelspec": {
   "display_name": "Python 3 (ipykernel)",
   "language": "python",
   "name": "python3"
  },
  "language_info": {
   "codemirror_mode": {
    "name": "ipython",
    "version": 3
   },
   "file_extension": ".py",
   "mimetype": "text/x-python",
   "name": "python",
   "nbconvert_exporter": "python",
   "pygments_lexer": "ipython3",
   "version": "3.11.7"
  }
 },
 "nbformat": 4,
 "nbformat_minor": 5
}
